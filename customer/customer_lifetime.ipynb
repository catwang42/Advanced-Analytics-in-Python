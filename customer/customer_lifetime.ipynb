{
 "cells": [
  {
   "cell_type": "markdown",
   "metadata": {
    "collapsed": true
   },
   "source": [
    "# Analysis of Zakka  Canada Customers\n",
    "CLV: customer lifetime\n",
    "RFM: recency, frequency, monetary value \n",
    "CPM: customer probability models\n",
    "focus on how customer make repeat purchases over their lifetime relationship \n",
    "\n",
    "The Beta-Geometric/Beta Binomial (BG/BB) model [BG/BB Model in 2009](http://web-docs.stern.nyu.edu/old_web/emplibrary/Peter%20Fader.pdf)\n",
    "\n",
    "Customer will purchase at an interval that's randomly distributed within a reasonable time range. After each purchase they have a certain probabilitiy of dying or becoming inactive. "
   ]
  },
  {
   "cell_type": "code",
   "execution_count": 1,
   "metadata": {
    "collapsed": false
   },
   "outputs": [],
   "source": [
    "from lifetimes.plotting import *\n",
    "from lifetimes.utils import *\n",
    "from lifetimes.estimation import *\n",
    "from pandas import read_csv\n",
    "import pandas as pd\n",
    "from scipy.stats import beta, gamma, invgamma, norm\n",
    "import matplotlib.pyplot as plt\n",
    "import seaborn as sns\n",
    "import datetime as dt\n",
    "import warnings\n",
    "from random import uniform \n",
    "from statsmodels.api import OLS\n",
    "import numpy as np\n",
    "warnings.filterwarnings('ignore')\n",
    "sns.set_palette(\"husl\")\n",
    "sns.set(rc={'image.cmap': 'coolwarm'})"
   ]
  },
  {
   "cell_type": "code",
   "execution_count": 2,
   "metadata": {
    "collapsed": false
   },
   "outputs": [],
   "source": [
    "trans_data = pd.read_csv('orders.csv')\n",
    "%matplotlib inline"
   ]
  },
  {
   "cell_type": "code",
   "execution_count": 3,
   "metadata": {
    "collapsed": false
   },
   "outputs": [
    {
     "data": {
      "text/html": [
       "<div>\n",
       "<table border=\"1\" class=\"dataframe\">\n",
       "  <thead>\n",
       "    <tr style=\"text-align: right;\">\n",
       "      <th></th>\n",
       "      <th>Customer ID</th>\n",
       "      <th>Date</th>\n",
       "      <th>Subtotal</th>\n",
       "      <th>State</th>\n",
       "      <th>Country</th>\n",
       "    </tr>\n",
       "  </thead>\n",
       "  <tbody>\n",
       "    <tr>\n",
       "      <th>0</th>\n",
       "      <td>34</td>\n",
       "      <td>6/21/2007</td>\n",
       "      <td>86.0</td>\n",
       "      <td>ON</td>\n",
       "      <td>Canada</td>\n",
       "    </tr>\n",
       "    <tr>\n",
       "      <th>1</th>\n",
       "      <td>38</td>\n",
       "      <td>6/27/2007</td>\n",
       "      <td>38.4</td>\n",
       "      <td>ON</td>\n",
       "      <td>Canada</td>\n",
       "    </tr>\n",
       "    <tr>\n",
       "      <th>2</th>\n",
       "      <td>47</td>\n",
       "      <td>7/2/2007</td>\n",
       "      <td>53.5</td>\n",
       "      <td>MO</td>\n",
       "      <td>United States</td>\n",
       "    </tr>\n",
       "    <tr>\n",
       "      <th>3</th>\n",
       "      <td>61</td>\n",
       "      <td>7/14/2007</td>\n",
       "      <td>7.0</td>\n",
       "      <td>ON</td>\n",
       "      <td>Canada</td>\n",
       "    </tr>\n",
       "    <tr>\n",
       "      <th>4</th>\n",
       "      <td>78</td>\n",
       "      <td>7/21/2007</td>\n",
       "      <td>55.5</td>\n",
       "      <td>ON</td>\n",
       "      <td>Canada</td>\n",
       "    </tr>\n",
       "  </tbody>\n",
       "</table>\n",
       "</div>"
      ],
      "text/plain": [
       "   Customer ID       Date  Subtotal State        Country\n",
       "0           34  6/21/2007      86.0    ON         Canada\n",
       "1           38  6/27/2007      38.4    ON         Canada\n",
       "2           47   7/2/2007      53.5    MO  United States\n",
       "3           61  7/14/2007       7.0    ON         Canada\n",
       "4           78  7/21/2007      55.5    ON         Canada"
      ]
     },
     "execution_count": 3,
     "metadata": {},
     "output_type": "execute_result"
    }
   ],
   "source": [
    "trans_data.head(5)"
   ]
  },
  {
   "cell_type": "code",
   "execution_count": 7,
   "metadata": {
    "collapsed": false
   },
   "outputs": [
    {
     "data": {
      "text/html": [
       "<div>\n",
       "<table border=\"1\" class=\"dataframe\">\n",
       "  <thead>\n",
       "    <tr style=\"text-align: right;\">\n",
       "      <th></th>\n",
       "      <th>Customer ID</th>\n",
       "      <th>Date</th>\n",
       "      <th>Subtotal</th>\n",
       "      <th>State</th>\n",
       "      <th>Country</th>\n",
       "    </tr>\n",
       "  </thead>\n",
       "  <tbody>\n",
       "    <tr>\n",
       "      <th>0</th>\n",
       "      <td>34</td>\n",
       "      <td>2007-06-21</td>\n",
       "      <td>86.0</td>\n",
       "      <td>ON</td>\n",
       "      <td>Canada</td>\n",
       "    </tr>\n",
       "    <tr>\n",
       "      <th>1</th>\n",
       "      <td>38</td>\n",
       "      <td>2007-06-27</td>\n",
       "      <td>38.4</td>\n",
       "      <td>ON</td>\n",
       "      <td>Canada</td>\n",
       "    </tr>\n",
       "    <tr>\n",
       "      <th>2</th>\n",
       "      <td>47</td>\n",
       "      <td>2007-07-02</td>\n",
       "      <td>53.5</td>\n",
       "      <td>MO</td>\n",
       "      <td>United States</td>\n",
       "    </tr>\n",
       "    <tr>\n",
       "      <th>3</th>\n",
       "      <td>61</td>\n",
       "      <td>2007-07-14</td>\n",
       "      <td>7.0</td>\n",
       "      <td>ON</td>\n",
       "      <td>Canada</td>\n",
       "    </tr>\n",
       "    <tr>\n",
       "      <th>4</th>\n",
       "      <td>78</td>\n",
       "      <td>2007-07-21</td>\n",
       "      <td>55.5</td>\n",
       "      <td>ON</td>\n",
       "      <td>Canada</td>\n",
       "    </tr>\n",
       "  </tbody>\n",
       "</table>\n",
       "</div>"
      ],
      "text/plain": [
       "   Customer ID       Date  Subtotal State        Country\n",
       "0           34 2007-06-21      86.0    ON         Canada\n",
       "1           38 2007-06-27      38.4    ON         Canada\n",
       "2           47 2007-07-02      53.5    MO  United States\n",
       "3           61 2007-07-14       7.0    ON         Canada\n",
       "4           78 2007-07-21      55.5    ON         Canada"
      ]
     },
     "execution_count": 7,
     "metadata": {},
     "output_type": "execute_result"
    }
   ],
   "source": [
    "trans_data['Date'] = pd.to_datetime(trans_data['Date'])\n",
    "trans_data.head()\n",
    "#print ('Number of Entries: %s' % len(trans_data))"
   ]
  },
  {
   "cell_type": "markdown",
   "metadata": {},
   "source": [
    "The models presented in _lifetimes_ measure customer's __repeat__ purchase behaviors based on his/her recency $x_t$, frequency $x$ and analysis period $T$.  Thus, each customer can be summarized into a vector $(x, t_x, T)$.  We can take our basic customer transaction list and parse it into a usable RF(M) dataframe for the model. We should use the function already made within _lifetimes_ called __summary_data_from_transaction_data()__:\n",
    "- Recency ($t_x$) is calculated as the most recent transaction within $T$ less time of the first transaction\n",
    "- Frequency ($x$) is number of repeat transactions the customer has made\n",
    "- $T$ is equal to the end observation period less first purchase made by the customer (implied age)\n",
    "\n",
    "The unit of time is in days"
   ]
  },
  {
   "cell_type": "code",
   "execution_count": 13,
   "metadata": {
    "collapsed": false
   },
   "outputs": [
    {
     "data": {
      "text/html": [
       "<div>\n",
       "<table border=\"1\" class=\"dataframe\">\n",
       "  <thead>\n",
       "    <tr style=\"text-align: right;\">\n",
       "      <th></th>\n",
       "      <th>frequency</th>\n",
       "      <th>recency</th>\n",
       "      <th>T</th>\n",
       "      <th>monetary_value</th>\n",
       "    </tr>\n",
       "    <tr>\n",
       "      <th>Customer ID</th>\n",
       "      <th></th>\n",
       "      <th></th>\n",
       "      <th></th>\n",
       "      <th></th>\n",
       "    </tr>\n",
       "  </thead>\n",
       "  <tbody>\n",
       "    <tr>\n",
       "      <th>9</th>\n",
       "      <td>0.0</td>\n",
       "      <td>0.0</td>\n",
       "      <td>3062.0</td>\n",
       "      <td>0.00</td>\n",
       "    </tr>\n",
       "    <tr>\n",
       "      <th>30</th>\n",
       "      <td>0.0</td>\n",
       "      <td>0.0</td>\n",
       "      <td>3037.0</td>\n",
       "      <td>0.00</td>\n",
       "    </tr>\n",
       "    <tr>\n",
       "      <th>34</th>\n",
       "      <td>0.0</td>\n",
       "      <td>0.0</td>\n",
       "      <td>3115.0</td>\n",
       "      <td>0.00</td>\n",
       "    </tr>\n",
       "    <tr>\n",
       "      <th>38</th>\n",
       "      <td>0.0</td>\n",
       "      <td>0.0</td>\n",
       "      <td>3109.0</td>\n",
       "      <td>0.00</td>\n",
       "    </tr>\n",
       "    <tr>\n",
       "      <th>7</th>\n",
       "      <td>2.0</td>\n",
       "      <td>794.0</td>\n",
       "      <td>1117.0</td>\n",
       "      <td>7.57</td>\n",
       "    </tr>\n",
       "  </tbody>\n",
       "</table>\n",
       "</div>"
      ],
      "text/plain": [
       "             frequency  recency       T  monetary_value\n",
       "Customer ID                                            \n",
       "9                  0.0      0.0  3062.0            0.00\n",
       "30                 0.0      0.0  3037.0            0.00\n",
       "34                 0.0      0.0  3115.0            0.00\n",
       "38                 0.0      0.0  3109.0            0.00\n",
       "7                  2.0    794.0  1117.0            7.57"
      ]
     },
     "execution_count": 13,
     "metadata": {},
     "output_type": "execute_result"
    }
   ],
   "source": [
    "data = summary_data_from_transaction_data(trans_data, 'Customer ID', 'Date', monetary_value_col='Subtotal', observation_period_end='2015-12-31')\n",
    "data.head().sort_values(by='frequency')"
   ]
  },
  {
   "cell_type": "code",
   "execution_count": 20,
   "metadata": {
    "collapsed": false
   },
   "outputs": [
    {
     "data": {
      "text/html": [
       "<div>\n",
       "<table border=\"1\" class=\"dataframe\">\n",
       "  <thead>\n",
       "    <tr style=\"text-align: right;\">\n",
       "      <th></th>\n",
       "      <th>frequency</th>\n",
       "      <th>recency</th>\n",
       "      <th>T</th>\n",
       "      <th>monetary_value</th>\n",
       "    </tr>\n",
       "    <tr>\n",
       "      <th>Customer ID</th>\n",
       "      <th></th>\n",
       "      <th></th>\n",
       "      <th></th>\n",
       "      <th></th>\n",
       "    </tr>\n",
       "  </thead>\n",
       "  <tbody>\n",
       "    <tr>\n",
       "      <th>582</th>\n",
       "      <td>43.0</td>\n",
       "      <td>2683.0</td>\n",
       "      <td>2767.0</td>\n",
       "      <td>84.228837</td>\n",
       "    </tr>\n",
       "    <tr>\n",
       "      <th>2482</th>\n",
       "      <td>31.0</td>\n",
       "      <td>2137.0</td>\n",
       "      <td>2158.0</td>\n",
       "      <td>144.657419</td>\n",
       "    </tr>\n",
       "    <tr>\n",
       "      <th>2777</th>\n",
       "      <td>26.0</td>\n",
       "      <td>2057.0</td>\n",
       "      <td>2101.0</td>\n",
       "      <td>87.481538</td>\n",
       "    </tr>\n",
       "    <tr>\n",
       "      <th>5291</th>\n",
       "      <td>26.0</td>\n",
       "      <td>889.0</td>\n",
       "      <td>1676.0</td>\n",
       "      <td>231.058462</td>\n",
       "    </tr>\n",
       "    <tr>\n",
       "      <th>4667</th>\n",
       "      <td>26.0</td>\n",
       "      <td>1757.0</td>\n",
       "      <td>1778.0</td>\n",
       "      <td>102.587692</td>\n",
       "    </tr>\n",
       "    <tr>\n",
       "      <th>2074</th>\n",
       "      <td>24.0</td>\n",
       "      <td>428.0</td>\n",
       "      <td>2270.0</td>\n",
       "      <td>85.197083</td>\n",
       "    </tr>\n",
       "    <tr>\n",
       "      <th>7415</th>\n",
       "      <td>23.0</td>\n",
       "      <td>1212.0</td>\n",
       "      <td>1340.0</td>\n",
       "      <td>229.924783</td>\n",
       "    </tr>\n",
       "    <tr>\n",
       "      <th>5732</th>\n",
       "      <td>23.0</td>\n",
       "      <td>1169.0</td>\n",
       "      <td>1591.0</td>\n",
       "      <td>47.130435</td>\n",
       "    </tr>\n",
       "    <tr>\n",
       "      <th>6356</th>\n",
       "      <td>23.0</td>\n",
       "      <td>1079.0</td>\n",
       "      <td>1512.0</td>\n",
       "      <td>263.592174</td>\n",
       "    </tr>\n",
       "    <tr>\n",
       "      <th>3208</th>\n",
       "      <td>23.0</td>\n",
       "      <td>1991.0</td>\n",
       "      <td>2022.0</td>\n",
       "      <td>64.064348</td>\n",
       "    </tr>\n",
       "    <tr>\n",
       "      <th>9639</th>\n",
       "      <td>22.0</td>\n",
       "      <td>659.0</td>\n",
       "      <td>1008.0</td>\n",
       "      <td>358.443636</td>\n",
       "    </tr>\n",
       "    <tr>\n",
       "      <th>3314</th>\n",
       "      <td>22.0</td>\n",
       "      <td>1874.0</td>\n",
       "      <td>1994.0</td>\n",
       "      <td>69.177273</td>\n",
       "    </tr>\n",
       "    <tr>\n",
       "      <th>965</th>\n",
       "      <td>21.0</td>\n",
       "      <td>1118.0</td>\n",
       "      <td>2619.0</td>\n",
       "      <td>61.907143</td>\n",
       "    </tr>\n",
       "    <tr>\n",
       "      <th>1803</th>\n",
       "      <td>21.0</td>\n",
       "      <td>905.0</td>\n",
       "      <td>2326.0</td>\n",
       "      <td>54.183810</td>\n",
       "    </tr>\n",
       "    <tr>\n",
       "      <th>4771</th>\n",
       "      <td>21.0</td>\n",
       "      <td>1703.0</td>\n",
       "      <td>1764.0</td>\n",
       "      <td>68.494762</td>\n",
       "    </tr>\n",
       "    <tr>\n",
       "      <th>5882</th>\n",
       "      <td>20.0</td>\n",
       "      <td>1479.0</td>\n",
       "      <td>1565.0</td>\n",
       "      <td>56.088000</td>\n",
       "    </tr>\n",
       "    <tr>\n",
       "      <th>246</th>\n",
       "      <td>20.0</td>\n",
       "      <td>2526.0</td>\n",
       "      <td>2543.0</td>\n",
       "      <td>85.292500</td>\n",
       "    </tr>\n",
       "    <tr>\n",
       "      <th>1246</th>\n",
       "      <td>20.0</td>\n",
       "      <td>1843.0</td>\n",
       "      <td>2126.0</td>\n",
       "      <td>37.764000</td>\n",
       "    </tr>\n",
       "    <tr>\n",
       "      <th>3375</th>\n",
       "      <td>20.0</td>\n",
       "      <td>1940.0</td>\n",
       "      <td>1984.0</td>\n",
       "      <td>54.155500</td>\n",
       "    </tr>\n",
       "    <tr>\n",
       "      <th>10920</th>\n",
       "      <td>19.0</td>\n",
       "      <td>757.0</td>\n",
       "      <td>801.0</td>\n",
       "      <td>61.354211</td>\n",
       "    </tr>\n",
       "    <tr>\n",
       "      <th>7171</th>\n",
       "      <td>19.0</td>\n",
       "      <td>1365.0</td>\n",
       "      <td>1387.0</td>\n",
       "      <td>55.410000</td>\n",
       "    </tr>\n",
       "    <tr>\n",
       "      <th>4485</th>\n",
       "      <td>18.0</td>\n",
       "      <td>1234.0</td>\n",
       "      <td>1677.0</td>\n",
       "      <td>74.223333</td>\n",
       "    </tr>\n",
       "    <tr>\n",
       "      <th>6669</th>\n",
       "      <td>18.0</td>\n",
       "      <td>791.0</td>\n",
       "      <td>1470.0</td>\n",
       "      <td>102.937222</td>\n",
       "    </tr>\n",
       "    <tr>\n",
       "      <th>216</th>\n",
       "      <td>18.0</td>\n",
       "      <td>1903.0</td>\n",
       "      <td>1947.0</td>\n",
       "      <td>139.303333</td>\n",
       "    </tr>\n",
       "    <tr>\n",
       "      <th>9327</th>\n",
       "      <td>18.0</td>\n",
       "      <td>1018.0</td>\n",
       "      <td>1052.0</td>\n",
       "      <td>249.543333</td>\n",
       "    </tr>\n",
       "    <tr>\n",
       "      <th>8059</th>\n",
       "      <td>17.0</td>\n",
       "      <td>748.0</td>\n",
       "      <td>1246.0</td>\n",
       "      <td>151.291765</td>\n",
       "    </tr>\n",
       "    <tr>\n",
       "      <th>2651</th>\n",
       "      <td>17.0</td>\n",
       "      <td>1419.0</td>\n",
       "      <td>2122.0</td>\n",
       "      <td>155.221765</td>\n",
       "    </tr>\n",
       "    <tr>\n",
       "      <th>14263</th>\n",
       "      <td>17.0</td>\n",
       "      <td>198.0</td>\n",
       "      <td>219.0</td>\n",
       "      <td>323.521176</td>\n",
       "    </tr>\n",
       "    <tr>\n",
       "      <th>1898</th>\n",
       "      <td>17.0</td>\n",
       "      <td>2178.0</td>\n",
       "      <td>2304.0</td>\n",
       "      <td>65.452941</td>\n",
       "    </tr>\n",
       "    <tr>\n",
       "      <th>2152</th>\n",
       "      <td>16.0</td>\n",
       "      <td>2075.0</td>\n",
       "      <td>2180.0</td>\n",
       "      <td>64.536875</td>\n",
       "    </tr>\n",
       "    <tr>\n",
       "      <th>...</th>\n",
       "      <td>...</td>\n",
       "      <td>...</td>\n",
       "      <td>...</td>\n",
       "      <td>...</td>\n",
       "    </tr>\n",
       "    <tr>\n",
       "      <th>7146</th>\n",
       "      <td>1.0</td>\n",
       "      <td>448.0</td>\n",
       "      <td>1390.0</td>\n",
       "      <td>9.600000</td>\n",
       "    </tr>\n",
       "    <tr>\n",
       "      <th>7142</th>\n",
       "      <td>1.0</td>\n",
       "      <td>155.0</td>\n",
       "      <td>1389.0</td>\n",
       "      <td>15.260000</td>\n",
       "    </tr>\n",
       "    <tr>\n",
       "      <th>7133</th>\n",
       "      <td>1.0</td>\n",
       "      <td>27.0</td>\n",
       "      <td>1392.0</td>\n",
       "      <td>139.520000</td>\n",
       "    </tr>\n",
       "    <tr>\n",
       "      <th>7128</th>\n",
       "      <td>1.0</td>\n",
       "      <td>69.0</td>\n",
       "      <td>1393.0</td>\n",
       "      <td>37.120000</td>\n",
       "    </tr>\n",
       "    <tr>\n",
       "      <th>7122</th>\n",
       "      <td>1.0</td>\n",
       "      <td>40.0</td>\n",
       "      <td>1386.0</td>\n",
       "      <td>24.100000</td>\n",
       "    </tr>\n",
       "    <tr>\n",
       "      <th>7114</th>\n",
       "      <td>1.0</td>\n",
       "      <td>9.0</td>\n",
       "      <td>1394.0</td>\n",
       "      <td>83.000000</td>\n",
       "    </tr>\n",
       "    <tr>\n",
       "      <th>7101</th>\n",
       "      <td>1.0</td>\n",
       "      <td>42.0</td>\n",
       "      <td>1395.0</td>\n",
       "      <td>12.560000</td>\n",
       "    </tr>\n",
       "    <tr>\n",
       "      <th>7093</th>\n",
       "      <td>1.0</td>\n",
       "      <td>42.0</td>\n",
       "      <td>1396.0</td>\n",
       "      <td>14.280000</td>\n",
       "    </tr>\n",
       "    <tr>\n",
       "      <th>7083</th>\n",
       "      <td>1.0</td>\n",
       "      <td>1096.0</td>\n",
       "      <td>1397.0</td>\n",
       "      <td>119.160000</td>\n",
       "    </tr>\n",
       "    <tr>\n",
       "      <th>7079</th>\n",
       "      <td>1.0</td>\n",
       "      <td>518.0</td>\n",
       "      <td>1395.0</td>\n",
       "      <td>99.390000</td>\n",
       "    </tr>\n",
       "    <tr>\n",
       "      <th>7075</th>\n",
       "      <td>1.0</td>\n",
       "      <td>189.0</td>\n",
       "      <td>1399.0</td>\n",
       "      <td>85.240000</td>\n",
       "    </tr>\n",
       "    <tr>\n",
       "      <th>7050</th>\n",
       "      <td>1.0</td>\n",
       "      <td>224.0</td>\n",
       "      <td>1402.0</td>\n",
       "      <td>20.160000</td>\n",
       "    </tr>\n",
       "    <tr>\n",
       "      <th>7044</th>\n",
       "      <td>1.0</td>\n",
       "      <td>580.0</td>\n",
       "      <td>1402.0</td>\n",
       "      <td>73.710000</td>\n",
       "    </tr>\n",
       "    <tr>\n",
       "      <th>7029</th>\n",
       "      <td>1.0</td>\n",
       "      <td>16.0</td>\n",
       "      <td>1404.0</td>\n",
       "      <td>54.510000</td>\n",
       "    </tr>\n",
       "    <tr>\n",
       "      <th>6845</th>\n",
       "      <td>1.0</td>\n",
       "      <td>592.0</td>\n",
       "      <td>1434.0</td>\n",
       "      <td>79.630000</td>\n",
       "    </tr>\n",
       "    <tr>\n",
       "      <th>7024</th>\n",
       "      <td>1.0</td>\n",
       "      <td>45.0</td>\n",
       "      <td>1405.0</td>\n",
       "      <td>41.960000</td>\n",
       "    </tr>\n",
       "    <tr>\n",
       "      <th>7013</th>\n",
       "      <td>1.0</td>\n",
       "      <td>7.0</td>\n",
       "      <td>1407.0</td>\n",
       "      <td>22.370000</td>\n",
       "    </tr>\n",
       "    <tr>\n",
       "      <th>7010</th>\n",
       "      <td>1.0</td>\n",
       "      <td>50.0</td>\n",
       "      <td>1407.0</td>\n",
       "      <td>96.810000</td>\n",
       "    </tr>\n",
       "    <tr>\n",
       "      <th>7004</th>\n",
       "      <td>1.0</td>\n",
       "      <td>350.0</td>\n",
       "      <td>1407.0</td>\n",
       "      <td>89.250000</td>\n",
       "    </tr>\n",
       "    <tr>\n",
       "      <th>6962</th>\n",
       "      <td>1.0</td>\n",
       "      <td>820.0</td>\n",
       "      <td>1414.0</td>\n",
       "      <td>53.500000</td>\n",
       "    </tr>\n",
       "    <tr>\n",
       "      <th>6947</th>\n",
       "      <td>1.0</td>\n",
       "      <td>15.0</td>\n",
       "      <td>1416.0</td>\n",
       "      <td>23.000000</td>\n",
       "    </tr>\n",
       "    <tr>\n",
       "      <th>6945</th>\n",
       "      <td>1.0</td>\n",
       "      <td>9.0</td>\n",
       "      <td>1417.0</td>\n",
       "      <td>48.900000</td>\n",
       "    </tr>\n",
       "    <tr>\n",
       "      <th>6932</th>\n",
       "      <td>1.0</td>\n",
       "      <td>988.0</td>\n",
       "      <td>1420.0</td>\n",
       "      <td>23.940000</td>\n",
       "    </tr>\n",
       "    <tr>\n",
       "      <th>6925</th>\n",
       "      <td>1.0</td>\n",
       "      <td>608.0</td>\n",
       "      <td>1422.0</td>\n",
       "      <td>16.070000</td>\n",
       "    </tr>\n",
       "    <tr>\n",
       "      <th>6903</th>\n",
       "      <td>1.0</td>\n",
       "      <td>6.0</td>\n",
       "      <td>1423.0</td>\n",
       "      <td>67.860000</td>\n",
       "    </tr>\n",
       "    <tr>\n",
       "      <th>6902</th>\n",
       "      <td>1.0</td>\n",
       "      <td>80.0</td>\n",
       "      <td>1423.0</td>\n",
       "      <td>29.380000</td>\n",
       "    </tr>\n",
       "    <tr>\n",
       "      <th>6880</th>\n",
       "      <td>1.0</td>\n",
       "      <td>198.0</td>\n",
       "      <td>1429.0</td>\n",
       "      <td>236.230000</td>\n",
       "    </tr>\n",
       "    <tr>\n",
       "      <th>6855</th>\n",
       "      <td>1.0</td>\n",
       "      <td>60.0</td>\n",
       "      <td>1432.0</td>\n",
       "      <td>263.430000</td>\n",
       "    </tr>\n",
       "    <tr>\n",
       "      <th>6846</th>\n",
       "      <td>1.0</td>\n",
       "      <td>267.0</td>\n",
       "      <td>1434.0</td>\n",
       "      <td>107.070000</td>\n",
       "    </tr>\n",
       "    <tr>\n",
       "      <th>15308</th>\n",
       "      <td>1.0</td>\n",
       "      <td>5.0</td>\n",
       "      <td>21.0</td>\n",
       "      <td>54.810000</td>\n",
       "    </tr>\n",
       "  </tbody>\n",
       "</table>\n",
       "<p>3498 rows × 4 columns</p>\n",
       "</div>"
      ],
      "text/plain": [
       "             frequency  recency       T  monetary_value\n",
       "Customer ID                                            \n",
       "582               43.0   2683.0  2767.0       84.228837\n",
       "2482              31.0   2137.0  2158.0      144.657419\n",
       "2777              26.0   2057.0  2101.0       87.481538\n",
       "5291              26.0    889.0  1676.0      231.058462\n",
       "4667              26.0   1757.0  1778.0      102.587692\n",
       "2074              24.0    428.0  2270.0       85.197083\n",
       "7415              23.0   1212.0  1340.0      229.924783\n",
       "5732              23.0   1169.0  1591.0       47.130435\n",
       "6356              23.0   1079.0  1512.0      263.592174\n",
       "3208              23.0   1991.0  2022.0       64.064348\n",
       "9639              22.0    659.0  1008.0      358.443636\n",
       "3314              22.0   1874.0  1994.0       69.177273\n",
       "965               21.0   1118.0  2619.0       61.907143\n",
       "1803              21.0    905.0  2326.0       54.183810\n",
       "4771              21.0   1703.0  1764.0       68.494762\n",
       "5882              20.0   1479.0  1565.0       56.088000\n",
       "246               20.0   2526.0  2543.0       85.292500\n",
       "1246              20.0   1843.0  2126.0       37.764000\n",
       "3375              20.0   1940.0  1984.0       54.155500\n",
       "10920             19.0    757.0   801.0       61.354211\n",
       "7171              19.0   1365.0  1387.0       55.410000\n",
       "4485              18.0   1234.0  1677.0       74.223333\n",
       "6669              18.0    791.0  1470.0      102.937222\n",
       "216               18.0   1903.0  1947.0      139.303333\n",
       "9327              18.0   1018.0  1052.0      249.543333\n",
       "8059              17.0    748.0  1246.0      151.291765\n",
       "2651              17.0   1419.0  2122.0      155.221765\n",
       "14263             17.0    198.0   219.0      323.521176\n",
       "1898              17.0   2178.0  2304.0       65.452941\n",
       "2152              16.0   2075.0  2180.0       64.536875\n",
       "...                ...      ...     ...             ...\n",
       "7146               1.0    448.0  1390.0        9.600000\n",
       "7142               1.0    155.0  1389.0       15.260000\n",
       "7133               1.0     27.0  1392.0      139.520000\n",
       "7128               1.0     69.0  1393.0       37.120000\n",
       "7122               1.0     40.0  1386.0       24.100000\n",
       "7114               1.0      9.0  1394.0       83.000000\n",
       "7101               1.0     42.0  1395.0       12.560000\n",
       "7093               1.0     42.0  1396.0       14.280000\n",
       "7083               1.0   1096.0  1397.0      119.160000\n",
       "7079               1.0    518.0  1395.0       99.390000\n",
       "7075               1.0    189.0  1399.0       85.240000\n",
       "7050               1.0    224.0  1402.0       20.160000\n",
       "7044               1.0    580.0  1402.0       73.710000\n",
       "7029               1.0     16.0  1404.0       54.510000\n",
       "6845               1.0    592.0  1434.0       79.630000\n",
       "7024               1.0     45.0  1405.0       41.960000\n",
       "7013               1.0      7.0  1407.0       22.370000\n",
       "7010               1.0     50.0  1407.0       96.810000\n",
       "7004               1.0    350.0  1407.0       89.250000\n",
       "6962               1.0    820.0  1414.0       53.500000\n",
       "6947               1.0     15.0  1416.0       23.000000\n",
       "6945               1.0      9.0  1417.0       48.900000\n",
       "6932               1.0    988.0  1420.0       23.940000\n",
       "6925               1.0    608.0  1422.0       16.070000\n",
       "6903               1.0      6.0  1423.0       67.860000\n",
       "6902               1.0     80.0  1423.0       29.380000\n",
       "6880               1.0    198.0  1429.0      236.230000\n",
       "6855               1.0     60.0  1432.0      263.430000\n",
       "6846               1.0    267.0  1434.0      107.070000\n",
       "15308              1.0      5.0    21.0       54.810000\n",
       "\n",
       "[3498 rows x 4 columns]"
      ]
     },
     "execution_count": 20,
     "metadata": {},
     "output_type": "execute_result"
    }
   ],
   "source": [
    "data[data.frequency>0].sort_values(by='frequency',ascending=False)"
   ]
  },
  {
   "cell_type": "code",
   "execution_count": 11,
   "metadata": {
    "collapsed": false
   },
   "outputs": [
    {
     "data": {
      "text/plain": [
       "<matplotlib.axes._subplots.AxesSubplot at 0x10e1e1b00>"
      ]
     },
     "execution_count": 11,
     "metadata": {},
     "output_type": "execute_result"
    },
    {
     "data": {
      "image/png": "[encoded data removed]",
      "text/plain": [
       "<matplotlib.figure.Figure at 0x10d1cc6a0>"
      ]
     },
     "metadata": {},
     "output_type": "display_data"
    }
   ],
   "source": [
    "data[data['frequency']>0].frequency.plot(kind='hist', bins=20)"
   ]
  },
  {
   "cell_type": "code",
   "execution_count": 23,
   "metadata": {
    "collapsed": false
   },
   "outputs": [
    {
     "name": "stdout",
     "output_type": "stream",
     "text": [
      "count    3498.000000\n",
      "mean        2.605489\n",
      "std         2.996117\n",
      "min         1.000000\n",
      "25%         1.000000\n",
      "50%         1.000000\n",
      "75%         3.000000\n",
      "max        43.000000\n",
      "Name: frequency, dtype: float64\n"
     ]
    }
   ],
   "source": [
    "print(data[data['frequency']>0].frequency.describe())"
   ]
  },
  {
   "cell_type": "code",
   "execution_count": 34,
   "metadata": {
    "collapsed": false
   },
   "outputs": [
    {
     "name": "stdout",
     "output_type": "stream",
     "text": [
      "ratio of customer brought from Zakka more than once 0.135786109595\n"
     ]
    }
   ],
   "source": [
    "morethanone = data[data['frequency']>1].frequency.count()\n",
    "total = len(data)\n",
    "ratio = morethanone/total\n",
    "print('ratio of customer brought from Zakka more than once', ratio)"
   ]
  },
  {
   "cell_type": "markdown",
   "metadata": {},
   "source": [
    "Most customers are one time buyers on Zakka Canada with only ~13.6% of customers making two or more repeat purchases while 72.3% of customers only make one purchase.  Below we look at their recency distribution:"
   ]
  },
  {
   "cell_type": "code",
   "execution_count": 36,
   "metadata": {
    "collapsed": false,
    "scrolled": false
   },
   "outputs": [
    {
     "name": "stdout",
     "output_type": "stream",
     "text": [
      "0.272663496765\n",
      "count    3498.000000\n",
      "mean      441.194969\n",
      "std       511.513487\n",
      "min         1.000000\n",
      "25%        55.000000\n",
      "50%       245.500000\n",
      "75%       661.000000\n",
      "max      2923.000000\n",
      "Name: recency, dtype: float64\n"
     ]
    },
    {
     "data": {
      "image/png": "[encoded data removed]",
      "text/plain": [
       "<matplotlib.figure.Figure at 0x10d298390>"
      ]
     },
     "metadata": {},
     "output_type": "display_data"
    }
   ],
   "source": [
    "data[data['recency'] != 0]['recency'].plot(kind='hist', bins=20)\n",
    "print (sum(data['recency'] != 0)/float(len(data)))\n",
    "print (data[data['recency'] != 0]['recency'].describe())"
   ]
  },
  {
   "cell_type": "markdown",
   "metadata": {},
   "source": [
    "Customers that previously have a frequency of zero (customers that have not made repeat purchases) also have a recency of zero so we isolate for repeat customer only.  Considering the analysis ranges within a span of eight years, having 50% of your customer churn before a year (245) is even up and 75% of your customers churn before two years (661) should be a concern"
   ]
  },
  {
   "cell_type": "markdown",
   "metadata": {},
   "source": [
    "## Fitting the BG/NBD Model\n",
    "\n",
    "In quick summary, the BG/NBD model assumes that each customer makes repeat purchases at different intervals.  This interval between purchases is modeled by an exponential distribution with a transaction rate $\\lambda$.  Furthermore, after each transaction, the customer has a $p%$ chance of going inactive (or dying) which is modelled by a shifted Geometric distribution.  These two major parameters are further refined for heterogenity across customers through a Gamma distribution for $\\lambda$ and a Beta distribution for $p$.  Thus we have four total parameters $r$, $\\alpha$ (gamma distro) and $a$, $b$ (Beta distro) estimated below:"
   ]
  },
  {
   "cell_type": "code",
   "execution_count": 38,
   "metadata": {
    "collapsed": false
   },
   "outputs": [
    {
     "name": "stdout",
     "output_type": "stream",
     "text": [
      "<lifetimes.BetaGeoFitter: fitted with 12829 subjects, a: 1.13, alpha: 25.17, b: 1.60, r: 0.09>\n"
     ]
    }
   ],
   "source": [
    "# similar API to scikit-learn and lifelines.\n",
    "bgf = BetaGeoFitter(penalizer_coef=0.0)\n",
    "bgf.fit(data['frequency'], data['recency'], data['T'], )\n",
    "print (bgf)"
   ]
  },
  {
   "cell_type": "markdown",
   "metadata": {},
   "source": [
    "Since everything goes back to the two major parameters, we can use our heterogenity parameters to model the uncertainty in the two.  As shown below, the probability of a customer dropping out has a large range but mostly centered between 15 to 60% after a certain transaction.  On the other hand, our customer transaction rate falls mostly within 0 and 0.01."
   ]
  },
  {
   "cell_type": "code",
   "execution_count": 39,
   "metadata": {
    "collapsed": false,
    "scrolled": false
   },
   "outputs": [
    {
     "data": {
      "text/plain": [
       "(0.0, 0.02)"
      ]
     },
     "execution_count": 39,
     "metadata": {},
     "output_type": "execute_result"
    },
    {
     "data": {
      "image/png": "[encoded data removed]",
      "text/plain": [
       "<matplotlib.figure.Figure at 0x10d4472b0>"
      ]
     },
     "metadata": {},
     "output_type": "display_data"
    }
   ],
   "source": [
    "gbd = beta.rvs(bgf.params_['a'], bgf.params_['b'], size = 50000)\n",
    "ggd = gamma.rvs(bgf.params_['r'], scale=1./bgf.params_['alpha'], size = 50000)\n",
    "plt.figure(figsize=(14,4))\n",
    "plt.subplot(121)\n",
    "plt.title('Heterogenity of $p$')\n",
    "temp = plt.hist(gbd, 20, facecolor='pink', alpha=0.75)\n",
    "plt.subplot(122)\n",
    "plt.title('Heterogenity of $\\lambda$')\n",
    "temp = plt.hist(ggd, 500, facecolor='pink', alpha=0.75)\n",
    "plt.xlim(0.0,0.02)"
   ]
  },
  {
   "cell_type": "markdown",
   "metadata": {},
   "source": [
    "---"
   ]
  },
  {
   "cell_type": "markdown",
   "metadata": {},
   "source": [
    "## Fact Checking\n",
    "\n",
    "Peter Fader in his [Youtube talk](https://www.youtube.com/watch?v=guj2gVEEx4s) on CLV provides four simple plots to illustrate the accuracy of the model and its associated behavioral story when applied to real data sets.  I will replicate two of them below on our data to ensure that the model is indeed a good fit for our customers. "
   ]
  },
  {
   "cell_type": "code",
   "execution_count": 40,
   "metadata": {
    "collapsed": false,
    "scrolled": false
   },
   "outputs": [
    {
     "data": {
      "text/plain": [
       "<matplotlib.axes._subplots.AxesSubplot at 0x10ead0eb8>"
      ]
     },
     "execution_count": 40,
     "metadata": {},
     "output_type": "execute_result"
    },
    {
     "data": {
      "image/png": "[encoded data removed]",
      "text/plain": [
       "<matplotlib.figure.Figure at 0x10ea76fd0>"
      ]
     },
     "metadata": {},
     "output_type": "display_data"
    }
   ],
   "source": [
    "plot_period_transactions(bgf, max_frequency=10)"
   ]
  },
  {
   "cell_type": "markdown",
   "metadata": {},
   "source": [
    "After fitting the BG/NBD model, we can fact check through looking at the fitted repeat purchase for the entire customer database.  Above plots the Actual repeat purchase frequency versus the Model repeat purchase frequency.  As shown, the model performs relatively well in fitting the repeat purchase pattern. It overestimates one and six repeat purchases while underestimating three repeat purchases."
   ]
  },
  {
   "cell_type": "code",
   "execution_count": 42,
   "metadata": {
    "collapsed": false
   },
   "outputs": [
    {
     "data": {
      "text/plain": [
       "<matplotlib.axes._subplots.AxesSubplot at 0x10eaa5390>"
      ]
     },
     "execution_count": 42,
     "metadata": {},
     "output_type": "execute_result"
    },
    {
     "data": {
      "image/png": "[encoded data removed]",
      "text/plain": [
       "<matplotlib.figure.Figure at 0x10f1d88d0>"
      ]
     },
     "metadata": {},
     "output_type": "display_data"
    }
   ],
   "source": [
    "summary_cal_holdout = calibration_and_holdout_data(trans_data, 'Customer ID', 'Date', \n",
    "                                        calibration_period_end='2015-01-01',\n",
    "                                        observation_period_end='2015-12-19' )   \n",
    "bgf.fit(summary_cal_holdout['frequency_cal'], summary_cal_holdout['recency_cal'], summary_cal_holdout['T_cal'])\n",
    "plot_calibration_purchases_vs_holdout_purchases(bgf, summary_cal_holdout, n=10)"
   ]
  },
  {
   "cell_type": "markdown",
   "metadata": {},
   "source": [
    "We can further validate our model by checking for presence of overfitting.  Separating our dataset into two sets: training (2007- 2014 end) and test (2015), we can fit our model with training and see how well it forecasts our customer's out of sample purchasing habit.  The plot above shows our fitted model prediction (green) versus our out of sample repeat purchase frequency (blue).  Each tick on the x-axis is composed of customers that have been grouped such that they have had $x$ repeat purchases.  the Y axis shows the mean of that group's subsequent repeat purchase.  For example, for all customers within our training period that have had 4 repeat purchases, the same group had on average about 0.42 purchases and the model predicted the same as well.  From this plot, we can see that the model performs relatively well in identifying repeat purchases within the lower ranges (less than 6) but is unable to properly forecast buying behaviors of customers with more frequent purchasing habits. "
   ]
  },
  {
   "cell_type": "markdown",
   "metadata": {},
   "source": [
    "------"
   ]
  },
  {
   "cell_type": "markdown",
   "metadata": {},
   "source": [
    "## R/F Matrix Plots"
   ]
  },
  {
   "cell_type": "code",
   "execution_count": 44,
   "metadata": {
    "collapsed": false
   },
   "outputs": [
    {
     "data": {
      "text/plain": [
       "<matplotlib.axes._subplots.AxesSubplot at 0x10ef26208>"
      ]
     },
     "execution_count": 44,
     "metadata": {},
     "output_type": "execute_result"
    },
    {
     "data": {
      "image/png": "[encoded data removed]",
      "text/plain": [
       "<matplotlib.figure.Figure at 0x10ef1e208>"
      ]
     },
     "metadata": {},
     "output_type": "display_data"
    }
   ],
   "source": [
    "plot_frequency_recency_matrix(bgf, T=365)"
   ]
  },
  {
   "cell_type": "markdown",
   "metadata": {},
   "source": [
    "For a given random customer with his/her observed $(x,t_x)$, we can calculate through the model the expected number of purchases within a time period which I have set equivalent to a year.  As shown, customers that purchase frequently and recently have a much higher expected future repeat purchase although this is very slim region on the chart.  For example, unless a customer has purchased recently (say within the past year and a half) and frequently (more than 5 times), don't expect them to show up and place an order within the next year."
   ]
  },
  {
   "cell_type": "code",
   "execution_count": 45,
   "metadata": {
    "collapsed": false
   },
   "outputs": [
    {
     "data": {
      "text/plain": [
       "<matplotlib.axes._subplots.AxesSubplot at 0x10f1d8320>"
      ]
     },
     "execution_count": 45,
     "metadata": {},
     "output_type": "execute_result"
    },
    {
     "data": {
      "image/png": "[encoded data removed]",
      "text/plain": [
       "<matplotlib.figure.Figure at 0x10ec68c50>"
      ]
     },
     "metadata": {},
     "output_type": "display_data"
    }
   ],
   "source": [
    "plot_probability_alive_matrix(bgf)"
   ]
  },
  {
   "cell_type": "markdown",
   "metadata": {},
   "source": [
    "For a given random customer with his/her observed $(x,t_x)$, we can calculate the probability as of today that they are still alive.  In other words, are they still interested in maintaining a purchasing relationship with our company in the future?  According to the model, it's very likely as long as they bought recently.  Even if they only bought once, they have about a 60-70% chance that they will buy again in the future.  Customers that are considered dead are usually ones that haven't made an order in a while.  \n",
    "\n",
    "It is interesting to note that for a given recency, customer's with more frequency are more likely to be considered dead.  This is a property of the model that illustrates a clear behavioral story:  If we observe customers making more frequent purchases, then having a prolonged period of inactivity makes it very likely that they've died off.  For example, Two customers $A$ and $B$ that both last purchased 1.5 years ago ($t_x\\approx 2700$) but purchased 10 and 30 times respectively.  We believe that it is more likely that customer B has died ($p=0.0$) while customer A still has a fair chance of being alive and making purchases in the future ($p\\approx 0.4$)."
   ]
  },
  {
   "cell_type": "markdown",
   "metadata": {},
   "source": [
    "---"
   ]
  },
  {
   "cell_type": "markdown",
   "metadata": {},
   "source": [
    "## Analyzing Customer's Historical Path\n",
    "\n",
    "One last plot that was developed in __lifetimes__ allows us to fully appreciate the model at a granular customer-base level.  Indeed, we can observe each of our customer's historical purchasing path and measure our confidence that they have not dropped out in between purchases.  To get a small and relevant subsample, I will let the _bgf_ model create projections for the next month purchasing pattern of my entire current customer-base and pick out 6 of my best customers.  As shown, our best customers that are projected to make more future repeat purchases are often our newest ones.  This makes sense since the model has revealed to us before that our customer base has a tendency to drop off after a short period of time."
   ]
  },
  {
   "cell_type": "code",
   "execution_count": 47,
   "metadata": {
    "collapsed": false
   },
   "outputs": [
    {
     "name": "stdout",
     "output_type": "stream",
     "text": [
      "             frequency  recency      T  monetary_value  predicted_purchases\n",
      "Customer ID                                                                \n",
      "10920             19.0    757.0  801.0       61.354211             0.593734\n",
      "13527             11.0    318.0  348.0      103.427273             0.693523\n",
      "14008              9.0    242.0  261.0      124.136667             0.749613\n",
      "12780             14.0    445.0  461.0      110.073571             0.761944\n",
      "13577             12.0    247.0  275.0       55.782500             0.893936\n",
      "14263             17.0    198.0  219.0      323.521176             1.521948\n"
     ]
    }
   ],
   "source": [
    "t = 31\n",
    "data['predicted_purchases'] = bgf.conditional_expected_number_of_purchases_up_to_time(t, data['frequency'], data['recency'], data['T'])\n",
    "best_projected_cust = data.sort('predicted_purchases').tail(6)\n",
    "print (data.sort('predicted_purchases').tail(6))"
   ]
  },
  {
   "cell_type": "markdown",
   "metadata": {},
   "source": [
    "Next, we can plot these six individuals over the course of their lifetime to observe their purchasing behavior.  Among these top 6 customers, they are sorted by expected future purchases ascendingly.  Adding a one month cushion, we can infer the probability that these customers are alive or dead if we have not seen them purchase by the end of the month.  For example, for customer $\\tt{14263}$ with a short life-time but very recent purchases, we expect him/her to  return and buy at-leasts once during the month of January.  If however, we don't see this person make an order by the middle of Jan 2016, there is a good chance that they're dead.\n",
    "\n",
    "Looking at the overall picture, there's not much pattern that can be generalized across all 6 individuals but we can identify certain seasonal behaviors for certain people, for example: \n",
    "\n",
    "1. Customer $\\tt{13577}$ tends to buy at an equal interval with the exception between September 2015 and Nov 2015.\n",
    "2. Customers $\\tt{12780}$,  $\\tt{13527}$ and $\\tt{10920}$ tends to buy during the early stage of their life-cycle and then repeat at a much slower interval\n",
    "3. Customer $\\tt{14008}$ first bought at a slower interval but increased his/her frequency over time. We can reasonably assume that they started bying more as their business expanded and became more successful."
   ]
  },
  {
   "cell_type": "code",
   "execution_count": 48,
   "metadata": {
    "collapsed": false,
    "scrolled": true
   },
   "outputs": [
    {
     "ename": "TypeError",
     "evalue": "'numpy.float64' object cannot be interpreted as an integer",
     "output_type": "error",
     "traceback": [
      "\u001b[0;31m---------------------------------------------------------------------------\u001b[0m",
      "\u001b[0;31mTypeError\u001b[0m                                 Traceback (most recent call last)",
      "\u001b[0;32m<ipython-input-48-d94d26e1b291>\u001b[0m in \u001b[0;36m<module>\u001b[0;34m()\u001b[0m\n\u001b[1;32m      4\u001b[0m     \u001b[0mbest_T\u001b[0m \u001b[0;34m=\u001b[0m \u001b[0mdata\u001b[0m\u001b[0;34m.\u001b[0m\u001b[0mix\u001b[0m\u001b[0;34m[\u001b[0m\u001b[0mi\u001b[0m\u001b[0;34m]\u001b[0m\u001b[0;34m[\u001b[0m\u001b[0;34m'T'\u001b[0m\u001b[0;34m]\u001b[0m\u001b[0;34m+\u001b[0m\u001b[0;36m31\u001b[0m \u001b[0;31m#add a month\u001b[0m\u001b[0;34m\u001b[0m\u001b[0m\n\u001b[1;32m      5\u001b[0m     \u001b[0mbest_trans\u001b[0m \u001b[0;34m=\u001b[0m \u001b[0mtrans_data\u001b[0m\u001b[0;34m[\u001b[0m\u001b[0mtrans_data\u001b[0m\u001b[0;34m[\u001b[0m\u001b[0;34m'Customer ID'\u001b[0m\u001b[0;34m]\u001b[0m \u001b[0;34m==\u001b[0m \u001b[0mi\u001b[0m\u001b[0;34m]\u001b[0m\u001b[0;34m\u001b[0m\u001b[0m\n\u001b[0;32m----> 6\u001b[0;31m     \u001b[0mplot_history_alive\u001b[0m\u001b[0;34m(\u001b[0m\u001b[0mbgf\u001b[0m\u001b[0;34m,\u001b[0m \u001b[0mbest_T\u001b[0m\u001b[0;34m,\u001b[0m \u001b[0mbest_trans\u001b[0m\u001b[0;34m,\u001b[0m \u001b[0;34m'Date'\u001b[0m\u001b[0;34m,\u001b[0m \u001b[0mfreq\u001b[0m\u001b[0;34m=\u001b[0m\u001b[0;34m'D'\u001b[0m\u001b[0;34m,\u001b[0m \u001b[0max\u001b[0m\u001b[0;34m=\u001b[0m\u001b[0max\u001b[0m\u001b[0;34m)\u001b[0m\u001b[0;34m\u001b[0m\u001b[0m\n\u001b[0m\u001b[1;32m      7\u001b[0m     \u001b[0max\u001b[0m\u001b[0;34m.\u001b[0m\u001b[0mset_title\u001b[0m\u001b[0;34m(\u001b[0m\u001b[0;34m'ID: '\u001b[0m\u001b[0;34m+\u001b[0m\u001b[0mstr\u001b[0m\u001b[0;34m(\u001b[0m\u001b[0mi\u001b[0m\u001b[0;34m)\u001b[0m\u001b[0;34m)\u001b[0m\u001b[0;34m\u001b[0m\u001b[0m\n\u001b[1;32m      8\u001b[0m     \u001b[0mplt\u001b[0m\u001b[0;34m.\u001b[0m\u001b[0mxticks\u001b[0m\u001b[0;34m(\u001b[0m\u001b[0mrotation\u001b[0m\u001b[0;34m=\u001b[0m\u001b[0;36m25\u001b[0m\u001b[0;34m)\u001b[0m\u001b[0;34m\u001b[0m\u001b[0m\n",
      "\u001b[0;32m/Applications/anaconda/lib/python3.6/site-packages/lifetimes/plotting.py\u001b[0m in \u001b[0;36mplot_history_alive\u001b[0;34m(model, t, transactions, datetime_col, freq, **kwargs)\u001b[0m\n\u001b[1;32m    204\u001b[0m \u001b[0;34m\u001b[0m\u001b[0m\n\u001b[1;32m    205\u001b[0m     \u001b[0;31m# plot alive_path\u001b[0m\u001b[0;34m\u001b[0m\u001b[0;34m\u001b[0m\u001b[0m\n\u001b[0;32m--> 206\u001b[0;31m     \u001b[0mpath\u001b[0m \u001b[0;34m=\u001b[0m \u001b[0mcalculate_alive_path\u001b[0m\u001b[0;34m(\u001b[0m\u001b[0mmodel\u001b[0m\u001b[0;34m,\u001b[0m \u001b[0mtransactions\u001b[0m\u001b[0;34m,\u001b[0m \u001b[0mdatetime_col\u001b[0m\u001b[0;34m,\u001b[0m \u001b[0mt\u001b[0m\u001b[0;34m,\u001b[0m \u001b[0mfreq\u001b[0m\u001b[0;34m)\u001b[0m\u001b[0;34m\u001b[0m\u001b[0m\n\u001b[0m\u001b[1;32m    207\u001b[0m     \u001b[0mpath_dates\u001b[0m \u001b[0;34m=\u001b[0m \u001b[0mpd\u001b[0m\u001b[0;34m.\u001b[0m\u001b[0mdate_range\u001b[0m\u001b[0;34m(\u001b[0m\u001b[0mstart\u001b[0m\u001b[0;34m=\u001b[0m\u001b[0mmin\u001b[0m\u001b[0;34m(\u001b[0m\u001b[0mtransactions\u001b[0m\u001b[0;34m[\u001b[0m\u001b[0mdatetime_col\u001b[0m\u001b[0;34m]\u001b[0m\u001b[0;34m)\u001b[0m\u001b[0;34m,\u001b[0m \u001b[0mperiods\u001b[0m\u001b[0;34m=\u001b[0m\u001b[0mlen\u001b[0m\u001b[0;34m(\u001b[0m\u001b[0mpath\u001b[0m\u001b[0;34m)\u001b[0m\u001b[0;34m,\u001b[0m \u001b[0mfreq\u001b[0m\u001b[0;34m=\u001b[0m\u001b[0mfreq\u001b[0m\u001b[0;34m)\u001b[0m\u001b[0;34m\u001b[0m\u001b[0m\n\u001b[1;32m    208\u001b[0m     \u001b[0mplt\u001b[0m\u001b[0;34m.\u001b[0m\u001b[0mplot\u001b[0m\u001b[0;34m(\u001b[0m\u001b[0mpath_dates\u001b[0m\u001b[0;34m,\u001b[0m \u001b[0mpath\u001b[0m\u001b[0;34m,\u001b[0m \u001b[0;34m'-'\u001b[0m\u001b[0;34m,\u001b[0m \u001b[0mlabel\u001b[0m\u001b[0;34m=\u001b[0m\u001b[0;34m'P_alive'\u001b[0m\u001b[0;34m)\u001b[0m\u001b[0;34m\u001b[0m\u001b[0m\n",
      "\u001b[0;32m/Applications/anaconda/lib/python3.6/site-packages/lifetimes/utils.py\u001b[0m in \u001b[0;36mcalculate_alive_path\u001b[0;34m(model, transactions, datetime_col, t, freq)\u001b[0m\n\u001b[1;32m    212\u001b[0m     \u001b[0mpurchase_history\u001b[0m \u001b[0;34m=\u001b[0m \u001b[0mcustomer_history\u001b[0m\u001b[0;34m.\u001b[0m\u001b[0mresample\u001b[0m\u001b[0;34m(\u001b[0m\u001b[0mfreq\u001b[0m\u001b[0;34m,\u001b[0m \u001b[0mhow\u001b[0m\u001b[0;34m=\u001b[0m\u001b[0;34m'sum'\u001b[0m\u001b[0;34m)\u001b[0m\u001b[0;34m.\u001b[0m\u001b[0mfillna\u001b[0m\u001b[0;34m(\u001b[0m\u001b[0;36m0\u001b[0m\u001b[0;34m)\u001b[0m\u001b[0;34m[\u001b[0m\u001b[0;34m'transactions'\u001b[0m\u001b[0;34m]\u001b[0m\u001b[0;34m.\u001b[0m\u001b[0mvalues\u001b[0m\u001b[0;34m\u001b[0m\u001b[0m\n\u001b[1;32m    213\u001b[0m     \u001b[0mextra_columns\u001b[0m \u001b[0;34m=\u001b[0m \u001b[0mt\u001b[0m \u001b[0;34m-\u001b[0m \u001b[0mlen\u001b[0m\u001b[0;34m(\u001b[0m\u001b[0mpurchase_history\u001b[0m\u001b[0;34m)\u001b[0m\u001b[0;34m\u001b[0m\u001b[0m\n\u001b[0;32m--> 214\u001b[0;31m     \u001b[0mcustomer_history\u001b[0m \u001b[0;34m=\u001b[0m \u001b[0mpd\u001b[0m\u001b[0;34m.\u001b[0m\u001b[0mDataFrame\u001b[0m\u001b[0;34m(\u001b[0m\u001b[0mnp\u001b[0m\u001b[0;34m.\u001b[0m\u001b[0mappend\u001b[0m\u001b[0;34m(\u001b[0m\u001b[0mpurchase_history\u001b[0m\u001b[0;34m,\u001b[0m \u001b[0;34m[\u001b[0m\u001b[0;36m0\u001b[0m\u001b[0;34m]\u001b[0m \u001b[0;34m*\u001b[0m \u001b[0mextra_columns\u001b[0m\u001b[0;34m)\u001b[0m\u001b[0;34m,\u001b[0m \u001b[0mcolumns\u001b[0m\u001b[0;34m=\u001b[0m\u001b[0;34m[\u001b[0m\u001b[0;34m'transactions'\u001b[0m\u001b[0;34m]\u001b[0m\u001b[0;34m)\u001b[0m\u001b[0;34m\u001b[0m\u001b[0m\n\u001b[0m\u001b[1;32m    215\u001b[0m     \u001b[0;31m# add T column\u001b[0m\u001b[0;34m\u001b[0m\u001b[0;34m\u001b[0m\u001b[0m\n\u001b[1;32m    216\u001b[0m     \u001b[0mcustomer_history\u001b[0m\u001b[0;34m[\u001b[0m\u001b[0;34m'T'\u001b[0m\u001b[0;34m]\u001b[0m \u001b[0;34m=\u001b[0m \u001b[0mnp\u001b[0m\u001b[0;34m.\u001b[0m\u001b[0marange\u001b[0m\u001b[0;34m(\u001b[0m\u001b[0mcustomer_history\u001b[0m\u001b[0;34m.\u001b[0m\u001b[0mshape\u001b[0m\u001b[0;34m[\u001b[0m\u001b[0;36m0\u001b[0m\u001b[0;34m]\u001b[0m\u001b[0;34m)\u001b[0m\u001b[0;34m\u001b[0m\u001b[0m\n",
      "\u001b[0;31mTypeError\u001b[0m: 'numpy.float64' object cannot be interpreted as an integer"
     ]
    },
    {
     "data": {
      "image/png": "[encoded data removed]",
      "text/plain": [
       "<matplotlib.figure.Figure at 0x10f368320>"
      ]
     },
     "metadata": {},
     "output_type": "display_data"
    }
   ],
   "source": [
    "fig = plt.figure(figsize=(12,12))\n",
    "for ind,i in enumerate(best_projected_cust.index.tolist()):\n",
    "    ax = plt.subplot(4,2,ind+1)\n",
    "    best_T = data.ix[i]['T']+31 #add a month\n",
    "    best_trans = trans_data[trans_data['Customer ID'] == i]\n",
    "    plot_history_alive(bgf, best_T, best_trans, 'Date', freq='D', ax=ax)\n",
    "    ax.set_title('ID: '+str(i))\n",
    "    plt.xticks(rotation=25)\n",
    "fig.tight_layout()"
   ]
  },
  {
   "cell_type": "markdown",
   "metadata": {},
   "source": [
    "---"
   ]
  },
  {
   "cell_type": "markdown",
   "metadata": {},
   "source": [
    "## Customer Value in Dollars: The Gamma-Gamma Model\n",
    "In a traditional RFM matrix, each customer can be assigned a monetary value with his or her customer profile.  This value is usually calculated as the mean transaction value of his or her purchasing history.  Transaction value is a loosely based word around any metric that the business might be interested in.  Zakka Canada reports an average profit margin of 55%, I will multiply that by the revenue.  Note that we are only interested in customers that have repeat purchases."
   ]
  },
  {
   "cell_type": "code",
   "execution_count": 49,
   "metadata": {
    "collapsed": false
   },
   "outputs": [
    {
     "name": "stdout",
     "output_type": "stream",
     "text": [
      "<lifetimes.GammaGammaFitter: fitted with 3498 subjects, p: 2.66, q: 3.06, v: 39.95>\n"
     ]
    }
   ],
   "source": [
    "ggf = GammaGammaFitter(penalizer_coef = 0)\n",
    "ret_cust_data = data[data['frequency'] > 0]\n",
    "ret_cust_data['monetary_value'] = ret_cust_data['monetary_value']*0.55 # Set Monetary value to gross profit only\n",
    "ggf.fit(ret_cust_data['frequency'], ret_cust_data['monetary_value'])\n",
    "p,q,v = ggf._unload_params('p', 'q', 'v')\n",
    "print (ggf) "
   ]
  },
  {
   "cell_type": "code",
   "execution_count": 50,
   "metadata": {
    "collapsed": false
   },
   "outputs": [
    {
     "data": {
      "text/plain": [
       "<matplotlib.axes._subplots.AxesSubplot at 0x10d62fcc0>"
      ]
     },
     "execution_count": 50,
     "metadata": {},
     "output_type": "execute_result"
    },
    {
     "data": {
      "image/png": "[encoded data removed]",
      "text/plain": [
       "<matplotlib.figure.Figure at 0x10f211cc0>"
      ]
     },
     "metadata": {},
     "output_type": "display_data"
    }
   ],
   "source": [
    "from scipy.special import beta\n",
    "def pzbar(zbar,p,q,v,x):\n",
    "    return (1./(zbar*beta(p*x,q)))*((v/(v+x*zbar))**(q))*(((x*zbar)/(v+x*zbar))**(p*x))\n",
    "\n",
    "x = range(1,100)\n",
    "numtrans = [1,3,5,25,100]\n",
    "dist = pd.DataFrame(0,index=x, columns=numtrans)\n",
    "for j in range(0,5):\n",
    "    for i in x:\n",
    "        dist.loc[i,numtrans[j]] = pzbar(i, p,q,v,numtrans[j])\n",
    "dist.plot(figsize=(10,4))"
   ]
  },
  {
   "cell_type": "markdown",
   "metadata": {},
   "source": [
    "The authors now introduce another complicated model to inferring transaction value called the __Gamma-Gamma Model__.  The GG model behaves much like the underlying concepts driving the BGF model: _heterogenity_.  What is the mean transaction value of our customer base? Well we can often estimate that with the sample mean and variance...IF our customer base was symmetrically and normal distributed.  Since this isn't the case (1. non-negative transaction value 2. right skew), we can use the Gamma distribution to approximate the distribution of the mean transaction value ($\\bar{z}=\\sum_{i} z_i / x$) for EACH customer:\n",
    "$$\\bar{z}\\sim Gamma(px,\\nu x)$$ Allowing the shape parameter ($\\nu$) to be heterogeneous over the entire customer base, here comes the second gamma term:\n",
    "$$\\nu\\sim Gamma(q,\\gamma)$$\n",
    "\n",
    "We can calculate the conditional average profit of our customer base versus the observed average profit.  In short, the conditional average profit uses the same concept of unobserved average transaction value in the distribution and provide a shrinkage mean between the unobserved mean and the customer's sample mean."
   ]
  },
  {
   "cell_type": "code",
   "execution_count": 51,
   "metadata": {
    "collapsed": false
   },
   "outputs": [
    {
     "name": "stdout",
     "output_type": "stream",
     "text": [
      "Expected conditional Average profit: Customer ID\n",
      "7         17.398166\n",
      "64        63.168099\n",
      "101       33.313500\n",
      "115       76.486055\n",
      "129       27.009726\n",
      "136       25.398451\n",
      "157       40.423066\n",
      "188       48.952066\n",
      "216       75.583287\n",
      "231       59.740605\n",
      "238       24.876959\n",
      "246       47.084513\n",
      "249       91.565326\n",
      "259       40.946816\n",
      "269       51.542997\n",
      "276       31.283524\n",
      "311       33.666809\n",
      "325       82.804402\n",
      "394       37.247535\n",
      "398       53.036812\n",
      "404      110.320615\n",
      "420       48.646417\n",
      "425       35.107937\n",
      "435       56.398564\n",
      "439       33.487125\n",
      "459       79.981167\n",
      "461       87.468930\n",
      "464       23.516927\n",
      "473       52.416972\n",
      "493       45.930401\n",
      "            ...    \n",
      "15033     40.082154\n",
      "15035     39.871408\n",
      "15036     42.150286\n",
      "15038     29.058298\n",
      "15039     83.167240\n",
      "15041     27.710145\n",
      "15047     43.398298\n",
      "15056     46.764920\n",
      "15058    131.880474\n",
      "15072     44.783641\n",
      "15089     30.905421\n",
      "15096    162.265036\n",
      "15104     30.840338\n",
      "15106    131.731712\n",
      "15107     44.538804\n",
      "15113     38.724704\n",
      "15132     53.765124\n",
      "15143     41.104890\n",
      "15156     33.773378\n",
      "15161     25.977692\n",
      "15169     31.199845\n",
      "15209     32.560394\n",
      "15216     44.749550\n",
      "15229     33.366186\n",
      "15233    115.721242\n",
      "15246     28.813461\n",
      "15271     26.396084\n",
      "15279     60.332330\n",
      "15283     26.222529\n",
      "15308     39.496405\n",
      "dtype: float64, Population Average profit 51.5675213434, Average profit: 51.56599920309531\n"
     ]
    }
   ],
   "source": [
    "avg_cond_profit = ggf.conditional_expected_average_profit(ret_cust_data['frequency'], ret_cust_data['monetary_value'])\n",
    "print (\"Expected conditional Average profit: %s, Population Average profit %s, Average profit: %s\" % (\n",
    "    avg_cond_profit, \n",
    "    (p*v)/(q-1),\n",
    "    ret_cust_data['monetary_value'].mean()\n",
    "))"
   ]
  },
  {
   "cell_type": "markdown",
   "metadata": {},
   "source": [
    "In short, the shrinkage trans. value has the highest average profit followed by what we have observed and lastly the population distribution.  Although these differences are minute, it still implies that the model believes customers are currently slightly under purchasing to their true transaction value.  The shrinkage model also allows us to closely examine the distribution on a customer by customer basis.  Recall that we previously discovered our six best customers for the month of January, let's look at their transaction value we expect from them over the next month."
   ]
  },
  {
   "cell_type": "code",
   "execution_count": 60,
   "metadata": {
    "collapsed": false
   },
   "outputs": [
    {
     "data": {
      "text/plain": [
       "array([29, 35, 31, ..., 27, 26, 31])"
      ]
     },
     "execution_count": 60,
     "metadata": {},
     "output_type": "execute_result"
    }
   ],
   "source": [
    "ccig = ccig.astype(int)\n",
    "ccig"
   ]
  },
  {
   "cell_type": "code",
   "execution_count": 70,
   "metadata": {
    "collapsed": false,
    "scrolled": false
   },
   "outputs": [
    {
     "data": {
      "image/png": "[encoded data removed]",
      "text/plain": [
       "<matplotlib.figure.Figure at 0x1143bc1d0>"
      ]
     },
     "metadata": {},
     "output_type": "display_data"
    }
   ],
   "source": [
    "customer_scale = p*(v+ret_cust_data['frequency']*ret_cust_data['monetary_value'])\n",
    "customer_shape = p*ret_cust_data['frequency']+q\n",
    "ez = customer_scale/(customer_shape-1)\n",
    "best_projected_cust['predicted_purchase_value'] = best_projected_cust['predicted_purchases']*ez\n",
    "plt.figure(figsize=(12,6))\n",
    "plt.xlabel('$ Profit')\n",
    "for ind,i in enumerate(best_projected_cust.index.tolist()):\n",
    "    ccig = invgamma.rvs(customer_shape[i], scale=customer_scale[i], size = 10000)\n",
    "    plt.text(ez[i]+5, invgamma.pdf(ez[i], customer_shape[i], scale=customer_scale[i]),\n",
    "             '$'+str(round(best_projected_cust['predicted_purchase_value'][i],2))\n",
    "            +'| '+str(int(ret_cust_data.loc[i,'frequency'])))\n",
    "    sns.distplot(ccig, hist=False, rug=False, label=str(i),kde=False,bins=50);"
   ]
  },
  {
   "cell_type": "code",
   "execution_count": null,
   "metadata": {
    "collapsed": false
   },
   "outputs": [],
   "source": []
  },
  {
   "cell_type": "markdown",
   "metadata": {},
   "source": [
    "The legends are in the order from least to most expected future purchases (in quantity, not trans. value) for our top 6 customers.  After factoring in their underlying mean purchase distribution, we can gain a lot of insight:\n",
    "- The order of ranking changes, customer $\\texttt{14008}$ is now our second best customer based on his transaction value.\n",
    "- $\\texttt{13577}$ and $\\texttt{10920}$ are frequent small buyers, they make frequent purchases worth approximately \\$21 to \\$28.  Thus, we are more confident about their range of mean transaction prices.\n",
    "- Conversely, $\\texttt{14263}$ being our best customer, purchase infrequently but in large quantities, we are less sure of his mean transaction value but he still stochastically dominates other top customers. "
   ]
  },
  {
   "cell_type": "markdown",
   "metadata": {},
   "source": [
    "---"
   ]
  },
  {
   "cell_type": "markdown",
   "metadata": {},
   "source": [
    "## Valuation: Estimating From the Ground Up"
   ]
  },
  {
   "cell_type": "markdown",
   "metadata": {},
   "source": [
    "Potential investors interested in a promising company often need to determine how much the company should cost at the present day.  According to traditional financial theory, the cost (also referred to as worth or value) of a company should be equivalent to its discounted future cash flow net of all costs and investments (more on this on the blog).\n",
    "\n",
    "For Zakka-Canada, it's pretty simple:  The company incurs a profit margin on each order (which I have established as 55% beforehand) and pays a fixed cost each month.  Taking this, we can make a few assumptions on their operations."
   ]
  },
  {
   "cell_type": "markdown",
   "metadata": {},
   "source": [
    "#### 1. I took the 2015 annual cost data, divided into equal month payments and used this as the estimate for future fixed cost."
   ]
  },
  {
   "cell_type": "code",
   "execution_count": 72,
   "metadata": {
    "collapsed": false
   },
   "outputs": [
    {
     "name": "stdout",
     "output_type": "stream",
     "text": [
      "Estimated Fixed Cost per month: $16250.0\n"
     ]
    }
   ],
   "source": [
    "monthly_fc = 195000/12 # Estimated from 2015 annual data\n",
    "print ('Estimated Fixed Cost per month: $%s' % monthly_fc)"
   ]
  },
  {
   "cell_type": "markdown",
   "metadata": {},
   "source": [
    "#### 2.  Average annual equity return ranges 6-8%, if Zakka Canada were to sell off their operations today to investors, we can assume a 15% annualized return for the new owners due to its small size."
   ]
  },
  {
   "cell_type": "code",
   "execution_count": 73,
   "metadata": {
    "collapsed": false
   },
   "outputs": [
    {
     "name": "stdout",
     "output_type": "stream",
     "text": [
      "Effective Monthly Rate: 0.01171491691985338%\n"
     ]
    }
   ],
   "source": [
    "dr = 0.15 # An annualized discrete rate\n",
    "mr = (1+dr)**(1/12.)-1. # Monthly effective rate\n",
    "print ('Effective Monthly Rate: %s%%' % mr)"
   ]
  },
  {
   "cell_type": "markdown",
   "metadata": {},
   "source": [
    "#### 3. New customer sales have risen historically but stagnated over time with cyclical purchase trends."
   ]
  },
  {
   "cell_type": "code",
   "execution_count": 74,
   "metadata": {
    "collapsed": false,
    "scrolled": false
   },
   "outputs": [
    {
     "data": {
      "text/plain": [
       "<matplotlib.text.Text at 0x1146faa58>"
      ]
     },
     "execution_count": 74,
     "metadata": {},
     "output_type": "execute_result"
    },
    {
     "data": {
      "image/png": "[encoded data removed]",
      "text/plain": [
       "<matplotlib.figure.Figure at 0x10ea718d0>"
      ]
     },
     "metadata": {},
     "output_type": "display_data"
    }
   ],
   "source": [
    "unique_cohort = trans_data[['Customer ID', 'Date']].sort('Date')\n",
    "unique_cohort = unique_cohort.drop_duplicates('Customer ID')\n",
    "unique_cohort['Date_M'] = unique_cohort['Date'].apply(lambda x: dt.datetime(day=1,month=x.month,year=x.year))\n",
    "cohort_over_time = unique_cohort[['Date_M', 'Customer ID']].groupby('Date_M').count()\n",
    "ax = cohort_over_time.plot(legend=False, figsize=(12,4))\n",
    "ax.set_xlabel('Date'); ax.set_ylabel('New Customer Cohort Size')"
   ]
  },
  {
   "cell_type": "markdown",
   "metadata": {},
   "source": [
    "#### 4. Observed customers have their own individual purchasing patterns while the newly arrived customers will assume model population parameters.\n",
    "---"
   ]
  },
  {
   "cell_type": "markdown",
   "metadata": {},
   "source": [
    "Given our assumptions, the value of Zakka Canada is simply the summation of:\n",
    "\n",
    "1. The present value of all new and repeat sales from each month's new cohort of unobserved customers.\n",
    "2. The present value of all gross profit on repeat sales from our observed customers.\n",
    "3. Less the present value of fixed cost for each month.\n",
    "\n",
    "Repeat until infinity."
   ]
  },
  {
   "cell_type": "markdown",
   "metadata": {},
   "source": [
    "We first address (1) by forecasting out our seasonal cohort of new customers.  We fit the time-series model to only the stagnation period (2010 and beyond).\n",
    "$$A_t = C + \\sum_{i=1}^{12}{\\beta_{i}\\delta_{m(t)=i}} $$\n",
    "Where $\\delta_{m(t)}$ is equal to the indicator variable denoting which month $t$ is in.  $C$ is equal to the mean monthly  estimated new arrivals.  Example plot of the arrivals forecast is below but remember that this forecast extends indefinitely as we also believe Zakka Canada can operate to an indefinite horizon."
   ]
  },
  {
   "cell_type": "code",
   "execution_count": 76,
   "metadata": {
    "collapsed": false
   },
   "outputs": [
    {
     "name": "stdout",
     "output_type": "stream",
     "text": [
      "                            OLS Regression Results                            \n",
      "==============================================================================\n",
      "Dep. Variable:            Customer ID   R-squared:                       0.686\n",
      "Model:                            OLS   Adj. R-squared:                  0.627\n",
      "Method:                 Least Squares   F-statistic:                     11.70\n",
      "Date:                Wed, 28 Jun 2017   Prob (F-statistic):           3.40e-11\n",
      "Time:                        16:39:59   Log-Likelihood:                -303.76\n",
      "No. Observations:                  71   AIC:                             631.5\n",
      "Df Residuals:                      59   BIC:                             658.7\n",
      "Df Model:                          11                                         \n",
      "Covariance Type:            nonrobust                                         \n",
      "==============================================================================\n",
      "                 coef    std err          t      P>|t|      [95.0% Conf. Int.]\n",
      "------------------------------------------------------------------------------\n",
      "M1            -3.0231      8.150     -0.371      0.712       -19.331    13.285\n",
      "M2            -3.1231      7.489     -0.417      0.678       -18.109    11.863\n",
      "M3            22.0436      7.489      2.943      0.005         7.058    37.029\n",
      "M4            23.7103      7.489      3.166      0.002         8.724    38.696\n",
      "M5             6.7103      7.489      0.896      0.374        -8.276    21.696\n",
      "M6            -4.6231      7.489     -0.617      0.539       -19.609    10.363\n",
      "M7           -19.6231      7.489     -2.620      0.011       -34.609    -4.637\n",
      "M8             6.5436      7.489      0.874      0.386        -8.442    21.529\n",
      "M9            22.8769      7.489      3.055      0.003         7.891    37.863\n",
      "M10           58.3769      7.489      7.795      0.000        43.391    73.363\n",
      "M11           61.2103      7.489      8.173      0.000        46.224    76.196\n",
      "M12          -22.4564      7.489     -2.999      0.004       -37.442    -7.471\n",
      "c            148.6231      2.100     70.781      0.000       144.421   152.825\n",
      "==============================================================================\n",
      "Omnibus:                        1.285   Durbin-Watson:                   0.999\n",
      "Prob(Omnibus):                  0.526   Jarque-Bera (JB):                1.307\n",
      "Skew:                          -0.242   Prob(JB):                        0.520\n",
      "Kurtosis:                       2.543   Cond. No.                     1.03e+16\n",
      "==============================================================================\n",
      "\n",
      "Warnings:\n",
      "[1] Standard Errors assume that the covariance matrix of the errors is correctly specified.\n",
      "[2] The smallest eigenvalue is 7.21e-31. This might indicate that there are\n",
      "strong multicollinearity problems or that the design matrix is singular.\n"
     ]
    },
    {
     "data": {
      "text/plain": [
       "<matplotlib.text.Text at 0x113a48208>"
      ]
     },
     "execution_count": 76,
     "metadata": {},
     "output_type": "execute_result"
    },
    {
     "data": {
      "image/png": "[encoded data removed]",
      "text/plain": [
       "<matplotlib.figure.Figure at 0x113a33128>"
      ]
     },
     "metadata": {},
     "output_type": "display_data"
    }
   ],
   "source": [
    "def prepareDesignMatrix(x):\n",
    "    x['M'] = x.index.month\n",
    "    for elem in x['M'].unique():\n",
    "        x['M'+str(elem)] = (x['M'] == elem).astype(int)\n",
    "    x['c'] = 1.\n",
    "    return x.drop('M', axis=1)\n",
    "cohort_over_time = cohort_over_time[cohort_over_time.index >= dt.datetime(2010,2,1)]\n",
    "cohort_over_time = prepareDesignMatrix(cohort_over_time)\n",
    "res = OLS(cohort_over_time['Customer ID'], cohort_over_time[['M1','M2','M3','M4','M5','M6','M7','M8','M9','M10','M11','M12','c']]).fit()\n",
    "print (res.summary())\n",
    "cohort_over_time['predicted'] = res.predict()\n",
    "f_cohort = pd.DataFrame(None, index= pd.date_range(cohort_over_time.index.max(), periods=5*12, freq='M'))\n",
    "f_cohort = prepareDesignMatrix(f_cohort)\n",
    "f_cohort['forecast'] = res.predict(f_cohort)\n",
    "cohort_over_time['predicted'].plot(style='--')\n",
    "cohort_over_time['Customer ID'].plot(legend=None)\n",
    "ax = f_cohort['forecast'].plot(style='--', figsize=(12,4))\n",
    "ax.set_xlabel('Date'); ax.set_ylabel('New Customer Cohort Size')"
   ]
  },
  {
   "cell_type": "markdown",
   "metadata": {},
   "source": [
    "The present value calculation is a bit tricky for both (1) and (2) which we will refer to as Discounted Repeat Value (DRV) and Residual Customer Value (RCV) respectively.  For both these measures, customers will repeatedly buy over multiple periods, these periods are then each discounted back to their present value.  Fader and his colleagues have proposed a closed form calculation for their Pareto/NBD model but not one for BG/NBD.  Through my emails with him and through other authors, they confirm that the actual calculation for BG/NBD model is messy and long so I'm going to approximate it numerically.  We can first start with RCV:\n",
    "\n",
    "The RCV consists of first predicting the expected purchases of each observed customer given their $(x, t_x, T)$.  We can then infer their expected $Z$ from the GG model as shown before to obtain an expected gross profit from them at each month. Note that our periodicity is monthly while the model calculates in days.  Our __residual value__ formula becomes:\n",
    "$$RCV = \\sum_{t=1}^{\\infty}{\\frac{\\sum_{k=1}^{K}{E(Z\\mid p,q,\\gamma,\\bar{z}_{k},x_{k})(E(Y(30t)\\mid x_{k},t_{x,k},T_{k},r,\\alpha,a,b)-E(Y(30(t-1))\\mid x_{k},t_{x,k},T_{k},r,\\alpha,a,b))}}{(1+\\delta)^t}}$$\n",
    "Where $k$ is the k-th customer observed.  See [here](http://www.brucehardie.com/notes/025/gamma_gamma.pdf) and [here](http://mktg.uni-svishtov.bg/ivm/resources/Counting_Your_Customers.pdf) for notation definitions."
   ]
  },
  {
   "cell_type": "code",
   "execution_count": 77,
   "metadata": {
    "collapsed": false
   },
   "outputs": [],
   "source": [
    "def RCV(t, model_trans, d, rfm, zeta):\n",
    "    discount_factor = 1./(1+d)**t\n",
    "    dif = (model_trans.conditional_expected_number_of_purchases_up_to_time(t*30, rfm['frequency'], rfm['recency'], rfm['T'])\n",
    "        - model_trans.conditional_expected_number_of_purchases_up_to_time((t-1)*30, rfm['frequency'], rfm['recency'], rfm['T']))\n",
    "    return ((dif*zeta).sum())*discount_factor"
   ]
  },
  {
   "cell_type": "markdown",
   "metadata": {},
   "source": [
    "The DRV (of only ONE customer) is similar in that we discount the expected gross profit of a generic customer from our two models.\n",
    "$$DRV = \\sum_{t=1}^{\\infty}{\\frac{E(Z\\mid p,q,\\gamma)(E(X(30t)\\mid r,\\alpha,a,b)-E(X(30(t-1))\\mid r,\\alpha,a,b))}{(1+\\delta)^t}}$$\n",
    "$$ = \\sum_{t=1}^{\\infty}{\\frac{\\frac{p\\gamma}{q-1}(E(X(30t)\\mid r,\\alpha,a,b)-E(X(30(t-1))\\mid r,\\alpha,a,b))}{(1+\\delta)^t}}$$\n",
    "Since the model only measures repeat transactions, we have to consider the fact that when one cohort of customers arrive, they must first make a purchase before beginning they buy until they die.  For example, if one customer enters at $t=0$ we would assume they would have first made a purchase at that time period and then repeat purchases at $t=1,2,3,...,\\infty$.\n",
    "$$ = \\sum_{t=1}^{\\infty}{\\frac{p\\gamma}{q-1}(\\frac{(E(X(30t)\\mid r,\\alpha,a,b)-E(X(30(t-1))\\mid r,\\alpha,a,b))}{(1+\\delta)^t}+\\delta_{t=1}1)}$$\n",
    "where $\\delta_{t=1}$ is the indicator variable for when if $t=1$."
   ]
  },
  {
   "cell_type": "code",
   "execution_count": 78,
   "metadata": {
    "collapsed": false
   },
   "outputs": [],
   "source": [
    "def DRV(t, model, d, zeta):\n",
    "    discount_factor = 1./(1+d)**t\n",
    "    dif = model.expected_number_of_purchases_up_to_time(t*30) - model.expected_number_of_purchases_up_to_time((t-1)*30)\n",
    "    return zeta*(dif*discount_factor+(t==1))"
   ]
  },
  {
   "cell_type": "markdown",
   "metadata": {},
   "source": [
    "Lastly, the DRV is only designed for one customer that arrives at some arbitrary time and buys until infinity.  At each time period $\\tau$, a cohort of size $A_t$ arrives and has a present value of $A_t(DRV)$.  If we allow $\\tau\\rightarrow\\infty$ and take the summation of each present value of cohort DRV, we end up with the __terminal value__ of the firm.\n",
    "$$TV = \\frac{A_{1}DRV}{(1+\\delta)}+\\frac{A_{2}DRV}{(1+\\delta)^2}+...+\\frac{A_{\\infty}DRV}{(1+\\delta)^{\\infty}}$$\n",
    "$$ = \\sum_{\\tau=1}^{\\infty}{\\frac{A_{\\tau}DRV}{(1+\\delta)^{\\tau}}} $$"
   ]
  },
  {
   "cell_type": "code",
   "execution_count": 79,
   "metadata": {
    "collapsed": true
   },
   "outputs": [],
   "source": [
    "def TermVal(t, model, d, zeta, ts_model, drv):\n",
    "    q = dt.datetime(2016,1,1)+pd.DateOffset(months=t)\n",
    "    x = pd.DataFrame([[0,0,0,0,0,0,0,0,0,0,0,0]], index=[q], columns=['M1','M2','M3','M4','M5','M6','M7','M8','M9','M10','M11','M12'])\n",
    "    cohort_size = ts_model.predict(prepareDesignMatrix(x))[0]\n",
    "    val = drv * cohort_size/( (1+d)**t )\n",
    "    #print 'present value of cohort size %s at t = %s : %s' % (cohort_size, t,val)\n",
    "    return val\n",
    "\n",
    "def approximate(fn, t=1, eps_tol=1e-6, eps=0, **kwargs):\n",
    "    eps = 0\n",
    "    cf = 0\n",
    "    while True:\n",
    "        cf += fn(t=t, **kwargs)\n",
    "        if(cf - eps < eps_tol):\n",
    "            break\n",
    "        eps = cf; t+=1\n",
    "    return cf"
   ]
  },
  {
   "cell_type": "code",
   "execution_count": 81,
   "metadata": {
    "collapsed": false
   },
   "outputs": [
    {
     "name": "stdout",
     "output_type": "stream",
     "text": [
      "Discount Repeated Value: $1355990.79\n"
     ]
    }
   ],
   "source": [
    "terminal_value = (approximate(TermVal, model=bgf, \n",
    "                              d=mr, zeta=(p*v)/(q-1), \n",
    "                              ts_model=res, \n",
    "                              drv=approximate(DRV, model=bgf, d=mr, zeta=(p*v)/(q-1)),\n",
    "                              eps_tol=1e-8))\n",
    "print ('Discount Repeated Value: $%.2f' % terminal_value)"
   ]
  },
  {
   "cell_type": "code",
   "execution_count": 85,
   "metadata": {
    "collapsed": false
   },
   "outputs": [
    {
     "name": "stdout",
     "output_type": "stream",
     "text": [
      "Residual Customer Value: $198416.88\n"
     ]
    }
   ],
   "source": [
    "residual_value = approximate(RCV, model_trans=bgf, d=mr, rfm=ret_cust_data, zeta=ez)\n",
    "print ('Residual Customer Value: $%.2f' % residual_value)"
   ]
  },
  {
   "cell_type": "markdown",
   "metadata": {},
   "source": [
    "Let's calculate our firm value"
   ]
  },
  {
   "cell_type": "code",
   "execution_count": 82,
   "metadata": {
    "collapsed": false
   },
   "outputs": [
    {
     "name": "stdout",
     "output_type": "stream",
     "text": [
      "Present Value of Fixed Cost: $1387120.38\n"
     ]
    }
   ],
   "source": [
    "pv_cost = monthly_fc / mr\n",
    "print ('Present Value of Fixed Cost: $%.2f' % pv_cost)"
   ]
  },
  {
   "cell_type": "code",
   "execution_count": 84,
   "metadata": {
    "collapsed": false
   },
   "outputs": [
    {
     "ename": "NameError",
     "evalue": "name 'residual_value' is not defined",
     "output_type": "error",
     "traceback": [
      "\u001b[0;31m---------------------------------------------------------------------------\u001b[0m",
      "\u001b[0;31mNameError\u001b[0m                                 Traceback (most recent call last)",
      "\u001b[0;32m<ipython-input-84-bf94265745b1>\u001b[0m in \u001b[0;36m<module>\u001b[0;34m()\u001b[0m\n\u001b[0;32m----> 1\u001b[0;31m \u001b[0mfirm_value\u001b[0m \u001b[0;34m=\u001b[0m \u001b[0mterminal_value\u001b[0m \u001b[0;34m+\u001b[0m \u001b[0mresidual_value\u001b[0m \u001b[0;34m-\u001b[0m \u001b[0mpv_cost\u001b[0m\u001b[0;34m\u001b[0m\u001b[0m\n\u001b[0m\u001b[1;32m      2\u001b[0m \u001b[0mprint\u001b[0m \u001b[0;34m(\u001b[0m\u001b[0;34m'Zakka Canada Firm Price: $%.2f'\u001b[0m \u001b[0;34m%\u001b[0m \u001b[0mfirm_value\u001b[0m\u001b[0;34m)\u001b[0m\u001b[0;34m\u001b[0m\u001b[0m\n",
      "\u001b[0;31mNameError\u001b[0m: name 'residual_value' is not defined"
     ]
    }
   ],
   "source": [
    "firm_value = terminal_value + residual_value - pv_cost\n",
    "print ('Zakka Canada Firm Price: $%.2f' % firm_value)"
   ]
  },
  {
   "cell_type": "markdown",
   "metadata": {},
   "source": [
    "---"
   ]
  },
  {
   "cell_type": "markdown",
   "metadata": {
    "collapsed": true
   },
   "source": [
    "## Miscellaneous"
   ]
  },
  {
   "cell_type": "markdown",
   "metadata": {
    "collapsed": true
   },
   "source": [
    "Other stuff that's been tried out before.."
   ]
  },
  {
   "cell_type": "code",
   "execution_count": 86,
   "metadata": {
    "collapsed": false,
    "scrolled": false
   },
   "outputs": [
    {
     "ename": "SyntaxError",
     "evalue": "invalid syntax (<ipython-input-86-df07467f66d9>, line 7)",
     "output_type": "error",
     "traceback": [
      "\u001b[0;36m  File \u001b[0;32m\"<ipython-input-86-df07467f66d9>\"\u001b[0;36m, line \u001b[0;32m7\u001b[0m\n\u001b[0;31m    print res.summary()\u001b[0m\n\u001b[0m            ^\u001b[0m\n\u001b[0;31mSyntaxError\u001b[0m\u001b[0;31m:\u001b[0m invalid syntax\n"
     ]
    }
   ],
   "source": [
    "def prepareDesignMatrix(x):\n",
    "    x['isQ1'] = [1 if d.quarter == 1 else 0 for d in x.index]; x['isQ2'] = [1 if d.quarter == 2 else 0 for d in x.index]; x['isQ3'] = [1 if d.quarter == 3 else 0 for d in x.index]; x['c'] = 1\n",
    "    return x\n",
    "cohort_over_time = cohort_over_time[cohort_over_time.index >= dt.datetime(2010,2,1)]\n",
    "cohort_over_time = prepareDesignMatrix(cohort_over_time)\n",
    "res = OLS(cohort_over_time['Customer ID'], cohort_over_time[['isQ1', 'isQ2','isQ3','c']]).fit()\n",
    "print res.summary()\n",
    "cohort_over_time['predicted'] = res.predict()\n",
    "cohort_over_time[['predicted', 'Customer ID']].plot(legend=None)\n",
    "f_cohort = pd.DataFrame(None, index= pd.date_range(cohort_over_time.index.max(), periods=5*12, freq='M'))\n",
    "f_cohort = prepareDesignMatrix(f_cohort)\n",
    "f_cohort['forecast'] = res.predict(f_cohort)\n",
    "f_cohort['forecast'].plot(style='--', figsize=(12,4))"
   ]
  },
  {
   "cell_type": "code",
   "execution_count": null,
   "metadata": {
    "collapsed": false
   },
   "outputs": [],
   "source": [
    "growth_value = 0\n",
    "for t,i in enumerate(f_cohort['forecast']):\n",
    "    growth_value += (i*approximate(MCV, model=bgf, d=mr, zeta=(p*v)/(q-1)))/ ( (1+mr)**(t+1) )\n",
    "print growth_value"
   ]
  },
  {
   "cell_type": "code",
   "execution_count": null,
   "metadata": {
    "collapsed": true
   },
   "outputs": [],
   "source": []
  }
 ],
 "metadata": {
  "kernelspec": {
   "display_name": "Python 3",
   "language": "python",
   "name": "python3"
  },
  "language_info": {
   "codemirror_mode": {
    "name": "ipython",
    "version": 3
   },
   "file_extension": ".py",
   "mimetype": "text/x-python",
   "name": "python",
   "nbconvert_exporter": "python",
   "pygments_lexer": "ipython3",
   "version": "3.6.0"
  }
 },
 "nbformat": 4,
 "nbformat_minor": 0
}
